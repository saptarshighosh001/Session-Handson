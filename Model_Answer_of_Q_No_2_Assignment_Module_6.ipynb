{
  "nbformat": 4,
  "nbformat_minor": 0,
  "metadata": {
    "colab": {
      "provenance": []
    },
    "kernelspec": {
      "name": "python3",
      "display_name": "Python 3"
    },
    "language_info": {
      "name": "python"
    }
  },
  "cells": [
    {
      "cell_type": "code",
      "execution_count": 1,
      "metadata": {
        "id": "KoKWZKj8AIh2"
      },
      "outputs": [],
      "source": [
        "#importing the required libraries\n",
        "from tensorflow.keras.datasets import mnist\n",
        "from tensorflow.keras.models import Sequential\n",
        "from tensorflow.keras.layers import Conv2D\n",
        "from tensorflow.keras.layers import MaxPool2D\n",
        "from tensorflow.keras.layers import Flatten\n",
        "from tensorflow.keras.layers import Dropout\n",
        "from tensorflow.keras.layers import Dense"
      ]
    },
    {
      "cell_type": "code",
      "source": [
        "#loading data\n",
        "(X_train,y_train) , (X_test,y_test)=mnist.load_data()\n",
        "\n",
        "#reshaping data\n",
        "X_train = X_train.reshape((X_train.shape[0], X_train.shape[1], X_train.shape[2], 1))\n",
        "X_test = X_test.reshape((X_test.shape[0],X_test.shape[1],X_test.shape[2],1))"
      ],
      "metadata": {
        "colab": {
          "base_uri": "https://localhost:8080/"
        },
        "id": "aSQFPuVKAPRj",
        "outputId": "732e1dc5-dc53-4bcb-a89f-0c5bf5c0ddf4"
      },
      "execution_count": 2,
      "outputs": [
        {
          "output_type": "stream",
          "name": "stdout",
          "text": [
            "Downloading data from https://storage.googleapis.com/tensorflow/tf-keras-datasets/mnist.npz\n",
            "11490434/11490434 [==============================] - 0s 0us/step\n"
          ]
        }
      ]
    },
    {
      "cell_type": "code",
      "source": [
        "#checking the shape after reshaping\n",
        "print(X_train.shape)\n",
        "print(X_test.shape)\n",
        "\n",
        "#normalizing the pixel values\n",
        "X_train=X_train/255\n",
        "X_test=X_test/255"
      ],
      "metadata": {
        "colab": {
          "base_uri": "https://localhost:8080/"
        },
        "id": "8je2uUETAZo0",
        "outputId": "9559d51f-f780-4de9-8412-63a9e7c4069e"
      },
      "execution_count": 3,
      "outputs": [
        {
          "output_type": "stream",
          "name": "stdout",
          "text": [
            "(60000, 28, 28, 1)\n",
            "(10000, 28, 28, 1)\n"
          ]
        }
      ]
    },
    {
      "cell_type": "code",
      "source": [
        "#defining model\n",
        "model=Sequential()\n",
        "\n",
        "#adding convolution layer\n",
        "model.add(Conv2D(32,(3,3),activation='relu',input_shape=(28,28,1)))\n",
        "\n",
        "#adding pooling layer\n",
        "model.add(MaxPool2D(2,2))\n",
        "\n",
        "#adding fully connected layer\n",
        "model.add(Flatten())\n",
        "model.add(Dense(100,activation='relu'))"
      ],
      "metadata": {
        "id": "5adgPicxAfKc"
      },
      "execution_count": 4,
      "outputs": []
    },
    {
      "cell_type": "code",
      "source": [
        "#adding output layer\n",
        "model.add(Dense(10,activation='softmax'))\n",
        "\n",
        "#compiling the model\n",
        "model.compile(loss='sparse_categorical_crossentropy',optimizer='adam',metrics=['accuracy'])\n",
        "\n",
        "#fitting the model\n",
        "model.fit(X_train,y_train,epochs=50)"
      ],
      "metadata": {
        "colab": {
          "base_uri": "https://localhost:8080/"
        },
        "id": "ovyKuWs5AlFs",
        "outputId": "45f9c562-0721-4c2d-a008-f9a0c9ae0b48"
      },
      "execution_count": 5,
      "outputs": [
        {
          "output_type": "stream",
          "name": "stdout",
          "text": [
            "Epoch 1/50\n",
            "1875/1875 [==============================] - 36s 19ms/step - loss: 0.1620 - accuracy: 0.9518\n",
            "Epoch 2/50\n",
            "1875/1875 [==============================] - 34s 18ms/step - loss: 0.0549 - accuracy: 0.9839\n",
            "Epoch 3/50\n",
            "1875/1875 [==============================] - 35s 19ms/step - loss: 0.0360 - accuracy: 0.9893\n",
            "Epoch 4/50\n",
            "1875/1875 [==============================] - 36s 19ms/step - loss: 0.0250 - accuracy: 0.9921\n",
            "Epoch 5/50\n",
            "1875/1875 [==============================] - 34s 18ms/step - loss: 0.0173 - accuracy: 0.9943\n",
            "Epoch 6/50\n",
            "1875/1875 [==============================] - 36s 19ms/step - loss: 0.0126 - accuracy: 0.9960\n",
            "Epoch 7/50\n",
            "1875/1875 [==============================] - 35s 19ms/step - loss: 0.0092 - accuracy: 0.9970\n",
            "Epoch 8/50\n",
            "1875/1875 [==============================] - 34s 18ms/step - loss: 0.0072 - accuracy: 0.9975\n",
            "Epoch 9/50\n",
            "1875/1875 [==============================] - 35s 19ms/step - loss: 0.0064 - accuracy: 0.9979\n",
            "Epoch 10/50\n",
            "1875/1875 [==============================] - 35s 18ms/step - loss: 0.0050 - accuracy: 0.9984\n",
            "Epoch 11/50\n",
            "1875/1875 [==============================] - 35s 18ms/step - loss: 0.0045 - accuracy: 0.9987\n",
            "Epoch 12/50\n",
            "1875/1875 [==============================] - 35s 19ms/step - loss: 0.0045 - accuracy: 0.9985\n",
            "Epoch 13/50\n",
            "1875/1875 [==============================] - 36s 19ms/step - loss: 0.0043 - accuracy: 0.9986\n",
            "Epoch 14/50\n",
            "1875/1875 [==============================] - 33s 18ms/step - loss: 0.0024 - accuracy: 0.9991\n",
            "Epoch 15/50\n",
            "1875/1875 [==============================] - 35s 19ms/step - loss: 0.0032 - accuracy: 0.9988\n",
            "Epoch 16/50\n",
            "1875/1875 [==============================] - 34s 18ms/step - loss: 0.0020 - accuracy: 0.9994\n",
            "Epoch 17/50\n",
            "1875/1875 [==============================] - 34s 18ms/step - loss: 0.0019 - accuracy: 0.9995\n",
            "Epoch 18/50\n",
            "1875/1875 [==============================] - 36s 19ms/step - loss: 0.0031 - accuracy: 0.9988\n",
            "Epoch 19/50\n",
            "1875/1875 [==============================] - 35s 19ms/step - loss: 0.0020 - accuracy: 0.9994\n",
            "Epoch 20/50\n",
            "1875/1875 [==============================] - 35s 19ms/step - loss: 0.0019 - accuracy: 0.9995\n",
            "Epoch 21/50\n",
            "1875/1875 [==============================] - 35s 19ms/step - loss: 0.0028 - accuracy: 0.9990\n",
            "Epoch 22/50\n",
            "1875/1875 [==============================] - 34s 18ms/step - loss: 0.0027 - accuracy: 0.9991\n",
            "Epoch 23/50\n",
            "1875/1875 [==============================] - 35s 19ms/step - loss: 0.0017 - accuracy: 0.9995\n",
            "Epoch 24/50\n",
            "1875/1875 [==============================] - 35s 19ms/step - loss: 0.0022 - accuracy: 0.9993\n",
            "Epoch 25/50\n",
            "1875/1875 [==============================] - 36s 19ms/step - loss: 0.0016 - accuracy: 0.9995\n",
            "Epoch 26/50\n",
            "1875/1875 [==============================] - 35s 19ms/step - loss: 0.0014 - accuracy: 0.9995\n",
            "Epoch 27/50\n",
            "1875/1875 [==============================] - 35s 19ms/step - loss: 0.0011 - accuracy: 0.9996\n",
            "Epoch 28/50\n",
            "1875/1875 [==============================] - 33s 18ms/step - loss: 0.0021 - accuracy: 0.9994\n",
            "Epoch 29/50\n",
            "1875/1875 [==============================] - 35s 18ms/step - loss: 0.0015 - accuracy: 0.9994\n",
            "Epoch 30/50\n",
            "1875/1875 [==============================] - 35s 18ms/step - loss: 0.0017 - accuracy: 0.9994\n",
            "Epoch 31/50\n",
            "1875/1875 [==============================] - 34s 18ms/step - loss: 7.6875e-04 - accuracy: 0.9997\n",
            "Epoch 32/50\n",
            "1875/1875 [==============================] - 36s 19ms/step - loss: 0.0014 - accuracy: 0.9996\n",
            "Epoch 33/50\n",
            "1875/1875 [==============================] - 36s 19ms/step - loss: 0.0020 - accuracy: 0.9995\n",
            "Epoch 34/50\n",
            "1875/1875 [==============================] - 34s 18ms/step - loss: 0.0012 - accuracy: 0.9996\n",
            "Epoch 35/50\n",
            "1875/1875 [==============================] - 35s 19ms/step - loss: 0.0012 - accuracy: 0.9995\n",
            "Epoch 36/50\n",
            "1875/1875 [==============================] - 34s 18ms/step - loss: 0.0012 - accuracy: 0.9996\n",
            "Epoch 37/50\n",
            "1875/1875 [==============================] - 34s 18ms/step - loss: 4.5272e-04 - accuracy: 0.9998\n",
            "Epoch 38/50\n",
            "1875/1875 [==============================] - 36s 19ms/step - loss: 0.0021 - accuracy: 0.9995\n",
            "Epoch 39/50\n",
            "1875/1875 [==============================] - 35s 19ms/step - loss: 4.3437e-04 - accuracy: 0.9999\n",
            "Epoch 40/50\n",
            "1875/1875 [==============================] - 35s 19ms/step - loss: 5.6369e-05 - accuracy: 1.0000\n",
            "Epoch 41/50\n",
            "1875/1875 [==============================] - 35s 19ms/step - loss: 0.0024 - accuracy: 0.9992\n",
            "Epoch 42/50\n",
            "1875/1875 [==============================] - 34s 18ms/step - loss: 3.7139e-04 - accuracy: 0.9999\n",
            "Epoch 43/50\n",
            "1875/1875 [==============================] - 36s 19ms/step - loss: 0.0015 - accuracy: 0.9995\n",
            "Epoch 44/50\n",
            "1875/1875 [==============================] - 35s 18ms/step - loss: 0.0011 - accuracy: 0.9997\n",
            "Epoch 45/50\n",
            "1875/1875 [==============================] - 35s 19ms/step - loss: 8.2395e-04 - accuracy: 0.9998\n",
            "Epoch 46/50\n",
            "1875/1875 [==============================] - 35s 19ms/step - loss: 0.0028 - accuracy: 0.9992\n",
            "Epoch 47/50\n",
            "1875/1875 [==============================] - 35s 19ms/step - loss: 0.0011 - accuracy: 0.9997\n",
            "Epoch 48/50\n",
            "1875/1875 [==============================] - 33s 18ms/step - loss: 7.3985e-04 - accuracy: 0.9998\n",
            "Epoch 49/50\n",
            "1875/1875 [==============================] - 36s 19ms/step - loss: 9.0240e-04 - accuracy: 0.9997\n",
            "Epoch 50/50\n",
            "1875/1875 [==============================] - 35s 19ms/step - loss: 9.2948e-04 - accuracy: 0.9997\n"
          ]
        },
        {
          "output_type": "execute_result",
          "data": {
            "text/plain": [
              "<keras.src.callbacks.History at 0x7c4e10d2d150>"
            ]
          },
          "metadata": {},
          "execution_count": 5
        }
      ]
    },
    {
      "cell_type": "code",
      "source": [
        "#evaluting the model\n",
        "model.evaluate(X_test,y_test)"
      ],
      "metadata": {
        "colab": {
          "base_uri": "https://localhost:8080/"
        },
        "id": "zxerzMZsA7su",
        "outputId": "34417b82-2318-4043-9713-772d45bfbb87"
      },
      "execution_count": 6,
      "outputs": [
        {
          "output_type": "stream",
          "name": "stdout",
          "text": [
            "313/313 [==============================] - 2s 7ms/step - loss: 0.1148 - accuracy: 0.9871\n"
          ]
        },
        {
          "output_type": "execute_result",
          "data": {
            "text/plain": [
              "[0.11484141647815704, 0.9871000051498413]"
            ]
          },
          "metadata": {},
          "execution_count": 6
        }
      ]
    }
  ]
}